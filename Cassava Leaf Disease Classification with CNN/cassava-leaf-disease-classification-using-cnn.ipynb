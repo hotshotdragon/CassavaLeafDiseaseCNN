{
 "cells": [
  {
   "cell_type": "code",
   "execution_count": 1,
   "metadata": {
    "execution": {
     "iopub.execute_input": "2021-02-08T14:34:11.314198Z",
     "iopub.status.busy": "2021-02-08T14:34:11.313633Z",
     "iopub.status.idle": "2021-02-08T14:34:15.984871Z",
     "shell.execute_reply": "2021-02-08T14:34:15.983832Z"
    },
    "papermill": {
     "duration": 4.685858,
     "end_time": "2021-02-08T14:34:15.985071",
     "exception": false,
     "start_time": "2021-02-08T14:34:11.299213",
     "status": "completed"
    },
    "tags": []
   },
   "outputs": [],
   "source": [
    "import numpy as np\n",
    "import matplotlib.pyplot as plt\n",
    "import pandas as pd\n",
    "import cv2\n",
    "import os\n",
    "import tensorflow as tf\n",
    "from tensorflow.keras.preprocessing.image import ImageDataGenerator\n",
    "from tensorflow.keras.models import Sequential\n",
    "from tensorflow.keras.layers import Dense,Dropout, Activation, Flatten, Conv2D, MaxPooling2D\n",
    "from keras.callbacks import EarlyStopping, ModelCheckpoint"
   ]
  },
  {
   "cell_type": "code",
   "execution_count": 2,
   "metadata": {
    "execution": {
     "iopub.execute_input": "2021-02-08T14:34:16.004803Z",
     "iopub.status.busy": "2021-02-08T14:34:16.004146Z",
     "iopub.status.idle": "2021-02-08T14:34:16.006948Z",
     "shell.execute_reply": "2021-02-08T14:34:16.006430Z"
    },
    "papermill": {
     "duration": 0.013674,
     "end_time": "2021-02-08T14:34:16.007061",
     "exception": false,
     "start_time": "2021-02-08T14:34:15.993387",
     "status": "completed"
    },
    "tags": []
   },
   "outputs": [],
   "source": [
    "train_csv_path = \"../input/cassava-leaf-disease-classification/train.csv\"\n",
    "label_json_path = \"../input/cassava-leaf-disease-classification/label_num_to_disease_map.json\"\n",
    "images_dir_path = \"../input/cassava-leaf-disease-classification/train_images\""
   ]
  },
  {
   "cell_type": "code",
   "execution_count": 3,
   "metadata": {
    "execution": {
     "iopub.execute_input": "2021-02-08T14:34:16.027926Z",
     "iopub.status.busy": "2021-02-08T14:34:16.027417Z",
     "iopub.status.idle": "2021-02-08T14:34:16.195451Z",
     "shell.execute_reply": "2021-02-08T14:34:16.195016Z"
    },
    "papermill": {
     "duration": 0.180933,
     "end_time": "2021-02-08T14:34:16.195597",
     "exception": false,
     "start_time": "2021-02-08T14:34:16.014664",
     "status": "completed"
    },
    "tags": []
   },
   "outputs": [
    {
     "name": "stdout",
     "output_type": "stream",
     "text": [
      "Label names :\n",
      " 0. Cassava Bacterial Blight (CBB)\n",
      " 1. Cassava Brown Streak Disease (CBSD)\n",
      " 2. Cassava Green Mottle (CGM)\n",
      " 3. Cassava Mosaic Disease (CMD)\n",
      " 4. Healthy\n"
     ]
    }
   ],
   "source": [
    "train_csv = pd.read_csv(train_csv_path)\n",
    "train_csv['label'] = train_csv['label'].astype('string')\n",
    "\n",
    "label_class = pd.read_json(label_json_path, orient='index')\n",
    "label_class = label_class.values.flatten().tolist()\n",
    "print(\"Label names :\")\n",
    "for i, label in enumerate(label_class):\n",
    "    print(f\" {i}. {label}\")"
   ]
  },
  {
   "cell_type": "code",
   "execution_count": 4,
   "metadata": {
    "execution": {
     "iopub.execute_input": "2021-02-08T14:34:16.223167Z",
     "iopub.status.busy": "2021-02-08T14:34:16.222420Z",
     "iopub.status.idle": "2021-02-08T14:34:16.230450Z",
     "shell.execute_reply": "2021-02-08T14:34:16.229924Z"
    },
    "papermill": {
     "duration": 0.026502,
     "end_time": "2021-02-08T14:34:16.230583",
     "exception": false,
     "start_time": "2021-02-08T14:34:16.204081",
     "status": "completed"
    },
    "tags": []
   },
   "outputs": [
    {
     "data": {
      "text/html": [
       "<div>\n",
       "<style scoped>\n",
       "    .dataframe tbody tr th:only-of-type {\n",
       "        vertical-align: middle;\n",
       "    }\n",
       "\n",
       "    .dataframe tbody tr th {\n",
       "        vertical-align: top;\n",
       "    }\n",
       "\n",
       "    .dataframe thead th {\n",
       "        text-align: right;\n",
       "    }\n",
       "</style>\n",
       "<table border=\"1\" class=\"dataframe\">\n",
       "  <thead>\n",
       "    <tr style=\"text-align: right;\">\n",
       "      <th></th>\n",
       "      <th>image_id</th>\n",
       "      <th>label</th>\n",
       "    </tr>\n",
       "  </thead>\n",
       "  <tbody>\n",
       "    <tr>\n",
       "      <th>0</th>\n",
       "      <td>1000015157.jpg</td>\n",
       "      <td>0</td>\n",
       "    </tr>\n",
       "    <tr>\n",
       "      <th>1</th>\n",
       "      <td>1000201771.jpg</td>\n",
       "      <td>3</td>\n",
       "    </tr>\n",
       "    <tr>\n",
       "      <th>2</th>\n",
       "      <td>100042118.jpg</td>\n",
       "      <td>1</td>\n",
       "    </tr>\n",
       "    <tr>\n",
       "      <th>3</th>\n",
       "      <td>1000723321.jpg</td>\n",
       "      <td>1</td>\n",
       "    </tr>\n",
       "    <tr>\n",
       "      <th>4</th>\n",
       "      <td>1000812911.jpg</td>\n",
       "      <td>3</td>\n",
       "    </tr>\n",
       "  </tbody>\n",
       "</table>\n",
       "</div>"
      ],
      "text/plain": [
       "         image_id label\n",
       "0  1000015157.jpg     0\n",
       "1  1000201771.jpg     3\n",
       "2   100042118.jpg     1\n",
       "3  1000723321.jpg     1\n",
       "4  1000812911.jpg     3"
      ]
     },
     "execution_count": 4,
     "metadata": {},
     "output_type": "execute_result"
    }
   ],
   "source": [
    "train_csv.head()"
   ]
  },
  {
   "cell_type": "code",
   "execution_count": 5,
   "metadata": {
    "execution": {
     "iopub.execute_input": "2021-02-08T14:34:16.251663Z",
     "iopub.status.busy": "2021-02-08T14:34:16.250963Z",
     "iopub.status.idle": "2021-02-08T14:34:16.253861Z",
     "shell.execute_reply": "2021-02-08T14:34:16.253439Z"
    },
    "papermill": {
     "duration": 0.014822,
     "end_time": "2021-02-08T14:34:16.253963",
     "exception": false,
     "start_time": "2021-02-08T14:34:16.239141",
     "status": "completed"
    },
    "tags": []
   },
   "outputs": [],
   "source": [
    "BATCH_SIZE = 32\n",
    "IMG_SIZE = 100"
   ]
  },
  {
   "cell_type": "code",
   "execution_count": 6,
   "metadata": {
    "execution": {
     "iopub.execute_input": "2021-02-08T14:34:16.275527Z",
     "iopub.status.busy": "2021-02-08T14:34:16.274907Z",
     "iopub.status.idle": "2021-02-08T14:34:16.277399Z",
     "shell.execute_reply": "2021-02-08T14:34:16.277783Z"
    },
    "papermill": {
     "duration": 0.015425,
     "end_time": "2021-02-08T14:34:16.277906",
     "exception": false,
     "start_time": "2021-02-08T14:34:16.262481",
     "status": "completed"
    },
    "tags": []
   },
   "outputs": [],
   "source": [
    "train_datagen = ImageDataGenerator(\n",
    "    rescale=1./255,\n",
    "    shear_range=0.2,\n",
    "    zoom_range=0.2,\n",
    "    horizontal_flip=True,\n",
    "    validation_split = 0.2\n",
    ")\n",
    "\n",
    "valid_datagen = ImageDataGenerator(\n",
    "    rescale=1/255,\n",
    "    validation_split = 0.2\n",
    ")"
   ]
  },
  {
   "cell_type": "code",
   "execution_count": 7,
   "metadata": {
    "execution": {
     "iopub.execute_input": "2021-02-08T14:34:16.302429Z",
     "iopub.status.busy": "2021-02-08T14:34:16.301693Z",
     "iopub.status.idle": "2021-02-08T14:34:43.719369Z",
     "shell.execute_reply": "2021-02-08T14:34:43.719800Z"
    },
    "papermill": {
     "duration": 27.433145,
     "end_time": "2021-02-08T14:34:43.719965",
     "exception": false,
     "start_time": "2021-02-08T14:34:16.286820",
     "status": "completed"
    },
    "tags": []
   },
   "outputs": [
    {
     "name": "stdout",
     "output_type": "stream",
     "text": [
      "Found 17118 validated image filenames belonging to 5 classes.\n",
      "Found 4279 validated image filenames belonging to 5 classes.\n"
     ]
    }
   ],
   "source": [
    "train_generator = train_datagen.flow_from_dataframe(\n",
    "    dataframe=train_csv,\n",
    "    directory = images_dir_path,\n",
    "    x_col = \"image_id\",\n",
    "    y_col = \"label\",\n",
    "    target_size = (IMG_SIZE, IMG_SIZE),\n",
    "    class_mode = \"categorical\",\n",
    "    batch_size = BATCH_SIZE,\n",
    "    shuffle = True,\n",
    "    subset = 'training'\n",
    ")\n",
    "\n",
    "valid_generator = valid_datagen.flow_from_dataframe(\n",
    "    dataframe = train_csv,\n",
    "    directory = images_dir_path,\n",
    "    x_col = \"image_id\",\n",
    "    y_col = \"label\",\n",
    "    target_size = (IMG_SIZE,IMG_SIZE),\n",
    "    class_mode = \"categorical\",\n",
    "    batch_size = BATCH_SIZE,\n",
    "    shuffle = False,\n",
    "    subset = 'validation'\n",
    ")"
   ]
  },
  {
   "cell_type": "code",
   "execution_count": 8,
   "metadata": {
    "execution": {
     "iopub.execute_input": "2021-02-08T14:34:43.751155Z",
     "iopub.status.busy": "2021-02-08T14:34:43.750527Z",
     "iopub.status.idle": "2021-02-08T14:34:46.592007Z",
     "shell.execute_reply": "2021-02-08T14:34:46.591557Z"
    },
    "papermill": {
     "duration": 2.862268,
     "end_time": "2021-02-08T14:34:46.592132",
     "exception": false,
     "start_time": "2021-02-08T14:34:43.729864",
     "status": "completed"
    },
    "tags": []
   },
   "outputs": [],
   "source": [
    "model = Sequential()\n",
    "model.add(Conv2D(64,(5,5),input_shape = (IMG_SIZE,IMG_SIZE,3)))\n",
    "model.add(Activation('relu'))\n",
    "model.add(MaxPooling2D(pool_size=(3,3)))\n",
    "\n",
    "model.add(Conv2D(128,(5,5),padding = 'same',strides = (2,2)))\n",
    "model.add(Activation('relu'))\n",
    "model.add(MaxPooling2D(pool_size=(3,3)))\n",
    "#model.add(Dropout(0.2))\n",
    "\n",
    "model.add(Conv2D(256,(3,3),padding = 'same'))\n",
    "model.add(Activation('relu'))\n",
    "model.add(MaxPooling2D(pool_size=(2,2)))\n",
    "model.add(Dropout(0.25))\n",
    "\n",
    "model.add(Conv2D(32,(3,3),padding = 'same'))\n",
    "model.add(Activation('relu'))\n",
    "model.add(MaxPooling2D(pool_size=(2,2)))\n",
    "model.add(Dropout(0.2))\n",
    "\n",
    "model.add(Flatten())\n",
    "model.add(Dense(32))\n",
    "model.add(Activation('relu'))\n",
    "model.add(Dense(32))\n",
    "model.add(Activation('relu'))\n",
    "\n",
    "# model.add(Dense(128))\n",
    "# model.add(Activation('relu'))\n",
    "# model.add(Dropout(0.2))\n",
    "\n",
    "# model.add(Dense(64))\n",
    "# model.add(Activation('relu'))\n",
    "model.add(Dropout(0.2))\n",
    "\n",
    "model.add(Dense(5, activation='softmax'))"
   ]
  },
  {
   "cell_type": "code",
   "execution_count": 9,
   "metadata": {
    "execution": {
     "iopub.execute_input": "2021-02-08T14:34:46.621435Z",
     "iopub.status.busy": "2021-02-08T14:34:46.620602Z",
     "iopub.status.idle": "2021-02-08T14:34:46.627280Z",
     "shell.execute_reply": "2021-02-08T14:34:46.626863Z"
    },
    "papermill": {
     "duration": 0.02558,
     "end_time": "2021-02-08T14:34:46.627385",
     "exception": false,
     "start_time": "2021-02-08T14:34:46.601805",
     "status": "completed"
    },
    "tags": []
   },
   "outputs": [],
   "source": [
    "model.compile(loss = 'binary_crossentropy',\n",
    "             optimizer='adam',\n",
    "             metrics = ['accuracy'])"
   ]
  },
  {
   "cell_type": "code",
   "execution_count": 10,
   "metadata": {
    "execution": {
     "iopub.execute_input": "2021-02-08T14:34:46.657888Z",
     "iopub.status.busy": "2021-02-08T14:34:46.655646Z",
     "iopub.status.idle": "2021-02-08T14:34:46.659969Z",
     "shell.execute_reply": "2021-02-08T14:34:46.658346Z"
    },
    "papermill": {
     "duration": 0.023229,
     "end_time": "2021-02-08T14:34:46.660130",
     "exception": false,
     "start_time": "2021-02-08T14:34:46.636901",
     "status": "completed"
    },
    "tags": []
   },
   "outputs": [
    {
     "name": "stdout",
     "output_type": "stream",
     "text": [
      "Model: \"sequential\"\n",
      "_________________________________________________________________\n",
      "Layer (type)                 Output Shape              Param #   \n",
      "=================================================================\n",
      "conv2d (Conv2D)              (None, 96, 96, 64)        4864      \n",
      "_________________________________________________________________\n",
      "activation (Activation)      (None, 96, 96, 64)        0         \n",
      "_________________________________________________________________\n",
      "max_pooling2d (MaxPooling2D) (None, 32, 32, 64)        0         \n",
      "_________________________________________________________________\n",
      "conv2d_1 (Conv2D)            (None, 16, 16, 128)       204928    \n",
      "_________________________________________________________________\n",
      "activation_1 (Activation)    (None, 16, 16, 128)       0         \n",
      "_________________________________________________________________\n",
      "max_pooling2d_1 (MaxPooling2 (None, 5, 5, 128)         0         \n",
      "_________________________________________________________________\n",
      "conv2d_2 (Conv2D)            (None, 5, 5, 256)         295168    \n",
      "_________________________________________________________________\n",
      "activation_2 (Activation)    (None, 5, 5, 256)         0         \n",
      "_________________________________________________________________\n",
      "max_pooling2d_2 (MaxPooling2 (None, 2, 2, 256)         0         \n",
      "_________________________________________________________________\n",
      "dropout (Dropout)            (None, 2, 2, 256)         0         \n",
      "_________________________________________________________________\n",
      "conv2d_3 (Conv2D)            (None, 2, 2, 32)          73760     \n",
      "_________________________________________________________________\n",
      "activation_3 (Activation)    (None, 2, 2, 32)          0         \n",
      "_________________________________________________________________\n",
      "max_pooling2d_3 (MaxPooling2 (None, 1, 1, 32)          0         \n",
      "_________________________________________________________________\n",
      "dropout_1 (Dropout)          (None, 1, 1, 32)          0         \n",
      "_________________________________________________________________\n",
      "flatten (Flatten)            (None, 32)                0         \n",
      "_________________________________________________________________\n",
      "dense (Dense)                (None, 32)                1056      \n",
      "_________________________________________________________________\n",
      "activation_4 (Activation)    (None, 32)                0         \n",
      "_________________________________________________________________\n",
      "dense_1 (Dense)              (None, 32)                1056      \n",
      "_________________________________________________________________\n",
      "activation_5 (Activation)    (None, 32)                0         \n",
      "_________________________________________________________________\n",
      "dropout_2 (Dropout)          (None, 32)                0         \n",
      "_________________________________________________________________\n",
      "dense_2 (Dense)              (None, 5)                 165       \n",
      "=================================================================\n",
      "Total params: 580,997\n",
      "Trainable params: 580,997\n",
      "Non-trainable params: 0\n",
      "_________________________________________________________________\n"
     ]
    }
   ],
   "source": [
    "model.summary()"
   ]
  },
  {
   "cell_type": "code",
   "execution_count": 11,
   "metadata": {
    "execution": {
     "iopub.execute_input": "2021-02-08T14:34:46.687414Z",
     "iopub.status.busy": "2021-02-08T14:34:46.686921Z",
     "iopub.status.idle": "2021-02-08T14:34:46.690474Z",
     "shell.execute_reply": "2021-02-08T14:34:46.690059Z"
    },
    "papermill": {
     "duration": 0.017651,
     "end_time": "2021-02-08T14:34:46.690633",
     "exception": false,
     "start_time": "2021-02-08T14:34:46.672982",
     "status": "completed"
    },
    "tags": []
   },
   "outputs": [],
   "source": [
    "early_stop = EarlyStopping(monitor='val_loss', min_delta=0.001, \n",
    "                           patience=3, mode='min', verbose=1)\n",
    "checkpoint_dir = './training_checkpoints'\n",
    "checkpoint_prefix = os.path.join(checkpoint_dir,'chkpt_{epoch}')\n",
    "checkpoint_callback = tf.keras.callbacks.ModelCheckpoint(filepath=checkpoint_prefix,\n",
    "                                                         save_weights_only=True)"
   ]
  },
  {
   "cell_type": "code",
   "execution_count": 12,
   "metadata": {
    "execution": {
     "iopub.execute_input": "2021-02-08T14:34:46.715083Z",
     "iopub.status.busy": "2021-02-08T14:34:46.714418Z",
     "iopub.status.idle": "2021-02-08T16:04:07.002444Z",
     "shell.execute_reply": "2021-02-08T16:04:06.999685Z"
    },
    "papermill": {
     "duration": 5360.301979,
     "end_time": "2021-02-08T16:04:07.002685",
     "exception": false,
     "start_time": "2021-02-08T14:34:46.700706",
     "status": "completed"
    },
    "tags": []
   },
   "outputs": [
    {
     "name": "stderr",
     "output_type": "stream",
     "text": [
      "/opt/conda/lib/python3.7/site-packages/tensorflow/python/keras/engine/training.py:1844: UserWarning: `Model.fit_generator` is deprecated and will be removed in a future version. Please use `Model.fit`, which supports generators.\n",
      "  warnings.warn('`Model.fit_generator` is deprecated and '\n"
     ]
    },
    {
     "name": "stdout",
     "output_type": "stream",
     "text": [
      "Epoch 1/100\n",
      "534/534 [==============================] - 287s 532ms/step - loss: 0.4378 - accuracy: 0.5880 - val_loss: 0.3527 - val_accuracy: 0.6257\n",
      "Epoch 2/100\n",
      "534/534 [==============================] - 195s 364ms/step - loss: 0.3659 - accuracy: 0.6255 - val_loss: 0.3415 - val_accuracy: 0.6290\n",
      "Epoch 3/100\n",
      "534/534 [==============================] - 193s 360ms/step - loss: 0.3537 - accuracy: 0.6314 - val_loss: 0.3370 - val_accuracy: 0.6328\n",
      "Epoch 4/100\n",
      "534/534 [==============================] - 194s 362ms/step - loss: 0.3412 - accuracy: 0.6351 - val_loss: 0.3603 - val_accuracy: 0.6318\n",
      "Epoch 5/100\n",
      "534/534 [==============================] - 253s 473ms/step - loss: 0.3352 - accuracy: 0.6458 - val_loss: 0.3207 - val_accuracy: 0.6436\n",
      "Epoch 6/100\n",
      "534/534 [==============================] - 194s 364ms/step - loss: 0.3362 - accuracy: 0.6351 - val_loss: 0.3318 - val_accuracy: 0.6360\n",
      "Epoch 7/100\n",
      "534/534 [==============================] - 195s 364ms/step - loss: 0.3275 - accuracy: 0.6425 - val_loss: 0.3221 - val_accuracy: 0.6464\n",
      "Epoch 8/100\n",
      "534/534 [==============================] - 196s 367ms/step - loss: 0.3182 - accuracy: 0.6523 - val_loss: 0.3083 - val_accuracy: 0.6546\n",
      "Epoch 9/100\n",
      "534/534 [==============================] - 196s 367ms/step - loss: 0.3151 - accuracy: 0.6515 - val_loss: 0.3080 - val_accuracy: 0.6553\n",
      "Epoch 10/100\n",
      "534/534 [==============================] - 197s 369ms/step - loss: 0.3126 - accuracy: 0.6513 - val_loss: 0.3067 - val_accuracy: 0.6598\n",
      "Epoch 11/100\n",
      "534/534 [==============================] - 199s 372ms/step - loss: 0.3049 - accuracy: 0.6613 - val_loss: 0.3008 - val_accuracy: 0.6624\n",
      "Epoch 12/100\n",
      "534/534 [==============================] - 199s 372ms/step - loss: 0.3036 - accuracy: 0.6594 - val_loss: 0.2929 - val_accuracy: 0.6649\n",
      "Epoch 13/100\n",
      "534/534 [==============================] - 199s 373ms/step - loss: 0.3041 - accuracy: 0.6593 - val_loss: 0.3238 - val_accuracy: 0.6506\n",
      "Epoch 14/100\n",
      "534/534 [==============================] - 200s 375ms/step - loss: 0.3011 - accuracy: 0.6683 - val_loss: 0.3064 - val_accuracy: 0.6532\n",
      "Epoch 15/100\n",
      "534/534 [==============================] - 200s 374ms/step - loss: 0.3054 - accuracy: 0.6611 - val_loss: 0.2911 - val_accuracy: 0.6649\n",
      "Epoch 16/100\n",
      "534/534 [==============================] - 199s 372ms/step - loss: 0.2949 - accuracy: 0.6684 - val_loss: 0.2919 - val_accuracy: 0.6631\n",
      "Epoch 17/100\n",
      "534/534 [==============================] - 218s 407ms/step - loss: 0.2918 - accuracy: 0.6761 - val_loss: 0.2987 - val_accuracy: 0.6729\n",
      "Epoch 18/100\n",
      "534/534 [==============================] - 200s 374ms/step - loss: 0.2935 - accuracy: 0.6745 - val_loss: 0.2893 - val_accuracy: 0.6769\n",
      "Epoch 19/100\n",
      "534/534 [==============================] - 220s 411ms/step - loss: 0.2892 - accuracy: 0.6680 - val_loss: 0.2868 - val_accuracy: 0.6694\n",
      "Epoch 20/100\n",
      "534/534 [==============================] - 202s 379ms/step - loss: 0.2894 - accuracy: 0.6716 - val_loss: 0.2841 - val_accuracy: 0.6673\n",
      "Epoch 21/100\n",
      "534/534 [==============================] - 202s 378ms/step - loss: 0.2865 - accuracy: 0.6781 - val_loss: 0.2800 - val_accuracy: 0.6800\n",
      "Epoch 22/100\n",
      "534/534 [==============================] - 203s 379ms/step - loss: 0.2801 - accuracy: 0.6849 - val_loss: 0.2912 - val_accuracy: 0.6647\n",
      "Epoch 23/100\n",
      "534/534 [==============================] - 202s 378ms/step - loss: 0.2824 - accuracy: 0.6777 - val_loss: 0.2744 - val_accuracy: 0.6758\n",
      "Epoch 24/100\n",
      "534/534 [==============================] - 204s 381ms/step - loss: 0.2799 - accuracy: 0.6866 - val_loss: 0.2784 - val_accuracy: 0.6762\n",
      "Epoch 25/100\n",
      "534/534 [==============================] - 204s 382ms/step - loss: 0.2794 - accuracy: 0.6826 - val_loss: 0.2823 - val_accuracy: 0.6729\n",
      "Epoch 26/100\n",
      "534/534 [==============================] - 205s 384ms/step - loss: 0.2782 - accuracy: 0.6864 - val_loss: 0.2834 - val_accuracy: 0.6760\n",
      "Epoch 00026: early stopping\n"
     ]
    },
    {
     "data": {
      "text/plain": [
       "<tensorflow.python.keras.callbacks.History at 0x7f5db39c9390>"
      ]
     },
     "execution_count": 12,
     "metadata": {},
     "output_type": "execute_result"
    }
   ],
   "source": [
    "STEP_SIZE_TRAIN=train_generator.n//train_generator.batch_size\n",
    "STEP_SIZE_VALID=valid_generator.n//valid_generator.batch_size\n",
    "model.fit_generator(generator=train_generator,\n",
    "                    steps_per_epoch=STEP_SIZE_TRAIN,\n",
    "                    validation_data=valid_generator,\n",
    "                    validation_steps=STEP_SIZE_VALID,\n",
    "                    epochs=100,callbacks = [early_stop,checkpoint_callback])"
   ]
  },
  {
   "cell_type": "code",
   "execution_count": 13,
   "metadata": {
    "execution": {
     "iopub.execute_input": "2021-02-08T16:04:14.182448Z",
     "iopub.status.busy": "2021-02-08T16:04:14.181845Z",
     "iopub.status.idle": "2021-02-08T16:04:14.382993Z",
     "shell.execute_reply": "2021-02-08T16:04:14.382187Z"
    },
    "papermill": {
     "duration": 3.794673,
     "end_time": "2021-02-08T16:04:14.383122",
     "exception": false,
     "start_time": "2021-02-08T16:04:10.588449",
     "status": "completed"
    },
    "tags": []
   },
   "outputs": [],
   "source": [
    "preds = []\n",
    "ss = pd.read_csv('../input/cassava-leaf-disease-classification/sample_submission.csv')\n",
    "\n",
    "for image in ss.image_id:\n",
    "    img = tf.keras.preprocessing.image.load_img('../input/cassava-leaf-disease-classification/test_images/' + image)\n",
    "    img = tf.keras.preprocessing.image.img_to_array(img)\n",
    "    img = tf.keras.preprocessing.image.smart_resize(img, (IMG_SIZE, IMG_SIZE))\n",
    "    img = tf.reshape(img, (-1, IMG_SIZE, IMG_SIZE, 3))\n",
    "    prediction = model.predict(img/255)\n",
    "    preds.append(np.argmax(prediction))\n",
    "\n",
    "my_submission = pd.DataFrame({'image_id': ss.image_id, 'label': preds})\n",
    "my_submission.to_csv('submission.csv', index=False) "
   ]
  },
  {
   "cell_type": "code",
   "execution_count": 14,
   "metadata": {
    "execution": {
     "iopub.execute_input": "2021-02-08T16:04:22.268128Z",
     "iopub.status.busy": "2021-02-08T16:04:22.266251Z",
     "iopub.status.idle": "2021-02-08T16:04:22.270360Z",
     "shell.execute_reply": "2021-02-08T16:04:22.269892Z"
    },
    "papermill": {
     "duration": 4.088004,
     "end_time": "2021-02-08T16:04:22.270494",
     "exception": false,
     "start_time": "2021-02-08T16:04:18.182490",
     "status": "completed"
    },
    "tags": []
   },
   "outputs": [
    {
     "name": "stdout",
     "output_type": "stream",
     "text": [
      "Submission File: \n",
      "---------------\n",
      "\n",
      "         image_id  label\n",
      "0  2216849948.jpg      3\n"
     ]
    }
   ],
   "source": [
    "print(\"Submission File: \\n---------------\\n\")\n",
    "print(my_submission.head())"
   ]
  }
 ],
 "metadata": {
  "kernelspec": {
   "display_name": "Python 3",
   "language": "python",
   "name": "python3"
  },
  "language_info": {
   "codemirror_mode": {
    "name": "ipython",
    "version": 3
   },
   "file_extension": ".py",
   "mimetype": "text/x-python",
   "name": "python",
   "nbconvert_exporter": "python",
   "pygments_lexer": "ipython3",
   "version": "3.7.9"
  },
  "papermill": {
   "default_parameters": {},
   "duration": 5421.340983,
   "end_time": "2021-02-08T16:04:27.980414",
   "environment_variables": {},
   "exception": null,
   "input_path": "__notebook__.ipynb",
   "output_path": "__notebook__.ipynb",
   "parameters": {},
   "start_time": "2021-02-08T14:34:06.639431",
   "version": "2.2.2"
  }
 },
 "nbformat": 4,
 "nbformat_minor": 4
}
